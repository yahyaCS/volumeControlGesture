{
 "cells": [
  {
   "cell_type": "code",
   "execution_count": 133,
   "id": "4865e53d-7d7c-469d-a901-fb495464726c",
   "metadata": {},
   "outputs": [],
   "source": [
    "import cv2\n",
    "import time\n",
    "import numpy as np\n",
    "import math\n",
    "import HandTrackingModule as htm\n",
    "import os"
   ]
  },
  {
   "cell_type": "code",
   "execution_count": 51,
   "id": "a6395907-e61d-4e16-a5f2-a66375d9cea6",
   "metadata": {},
   "outputs": [],
   "source": [
    "wCam, hCam = 640, 480"
   ]
  },
  {
   "cell_type": "code",
   "execution_count": 64,
   "id": "517e916e-e092-4a09-b095-27314a4c848c",
   "metadata": {},
   "outputs": [],
   "source": [
    "detector = htm.handDetector(detectionCon=0.7)\n"
   ]
  },
  {
   "cell_type": "code",
   "execution_count": 132,
   "id": "8fef1409-e536-434f-920a-e5a41959af24",
   "metadata": {
    "scrolled": true
   },
   "outputs": [],
   "source": [
    "cap = cv2.VideoCapture(0)\n",
    "cap.set(5, wCam)\n",
    "cap.set(5, hCam)\n",
    "pTime = 0\n",
    "\n",
    "volRange = [0, 100]\n",
    "minVol = volRange[0]\n",
    "maxVol = volRange[1]\n",
    "\n",
    "while True:\n",
    "    success, img = cap.read()\n",
    "    img = detector.findHands(img)\n",
    "    lmList, bbox = detector.findPosition(img, draw=False)\n",
    "    if len(lmList) != 0:\n",
    "        #print(lmList)\n",
    "        #print(lmList[4], lmList[8])\n",
    "\n",
    "        x1, y1 = lmList[4][1], lmList[4][2]\n",
    "        x2, y2 = lmList[8][1], lmList[8][2]\n",
    "        cx, cy = (x1 + x2) // 2, (y1 + y2) // 2\n",
    "\n",
    "        cv2.circle(img, (x1, y1), 15, (255, 0, 255), cv2.FILLED)\n",
    "        cv2.circle(img, (x2, y2), 15, (255, 0, 255), cv2.FILLED)\n",
    "        cv2.line(img, (x1, y1), (x2, y2), (255, 0, 255), 3)\n",
    "        cv2.circle(img, (cx, cy), 15, (255, 0, 255), cv2.FILLED)\n",
    "\n",
    "        length = math.hypot(x2 - x1, y2 - y1)\n",
    "        #print(length)\n",
    "\n",
    "        vol = np.interp(length, [50, 300], [minVol, maxVol])\n",
    "        #print(int(length), vol)\n",
    "\n",
    "\n",
    "        def set_volume(volume):\n",
    "            os.system(f\"osascript -e 'set volume output volume {volume}'\")\n",
    "        set_volume(vol)\n",
    "\n",
    "        vol = np.interp(length, [50, 300], [minVol, maxVol])\n",
    "        volBar = np.interp(length, [50, 300], [400, 150])\n",
    "        volPer = np.interp(length, [50, 300], [0, 100])\n",
    "        #print(int(length), vol)\n",
    "\n",
    "        cv2.rectangle(img, (50, 150), (85, 400), (255, 0, 0), 3)\n",
    "        cv2.rectangle(img, (50, int(volBar)), (85, 400), (255, 0, 0), cv2.FILLED)\n",
    "        cv2.putText(img, f'{int(volPer)} %', (40, 450), cv2.FONT_HERSHEY_COMPLEX,\n",
    "                1, (255, 0, 0), 3)\n",
    "\n",
    "        if length < 50:\n",
    "            cv2.circle(img, (cx, cy), 15, (0, 255, 0), cv2.FILLED)\n",
    "\n",
    "    cTime = time.time()\n",
    "    fps = 1 / (cTime - pTime)\n",
    "    pTime = cTime\n",
    "    cv2.putText(img, f'FPS: {int(fps)}', (40, 50), cv2.FONT_HERSHEY_COMPLEX, \n",
    "                1, (255, 0, 0), 3)\n",
    "    cv2.imshow(\"Img\", img)\n",
    "    if cv2.waitKey(1) == ord('q'):\n",
    "        break\n",
    "    \n",
    "cap.release()\n",
    "cv2.destroyAllWindows()"
   ]
  }
 ],
 "metadata": {
  "kernelspec": {
   "display_name": "Python 3 (ipykernel)",
   "language": "python",
   "name": "python3"
  },
  "language_info": {
   "codemirror_mode": {
    "name": "ipython",
    "version": 3
   },
   "file_extension": ".py",
   "mimetype": "text/x-python",
   "name": "python",
   "nbconvert_exporter": "python",
   "pygments_lexer": "ipython3",
   "version": "3.11.5"
  }
 },
 "nbformat": 4,
 "nbformat_minor": 5
}
