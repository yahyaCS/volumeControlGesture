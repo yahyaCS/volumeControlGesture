{
 "cells": [
  {
   "cell_type": "code",
   "execution_count": 16,
   "id": "7463bf7a-7a41-4aae-8f1f-55cf3a4aa91e",
   "metadata": {},
   "outputs": [
    {
     "name": "stdout",
     "output_type": "stream",
     "text": [
      "The autoreload extension is already loaded. To reload it, use:\n",
      "  %reload_ext autoreload\n"
     ]
    }
   ],
   "source": [
    "%load_ext autoreload\n",
    "%autoreload 2"
   ]
  },
  {
   "cell_type": "code",
   "execution_count": 17,
   "id": "6489c378-732a-447d-b270-80f874641810",
   "metadata": {},
   "outputs": [
    {
     "data": {
      "text/plain": [
       "<module 'HandTrackingModule' from '/Users/my/Desktop/volumeControlGesture/HandTrackingModule.py'>"
      ]
     },
     "execution_count": 17,
     "metadata": {},
     "output_type": "execute_result"
    }
   ],
   "source": [
    "import importlib\n",
    "importlib.reload(htm)\n"
   ]
  },
  {
   "cell_type": "code",
   "execution_count": 18,
   "id": "4865e53d-7d7c-469d-a901-fb495464726c",
   "metadata": {},
   "outputs": [],
   "source": [
    "import cv2\n",
    "import time\n",
    "import numpy as np\n",
    "import math\n",
    "import HandTrackingModule as htm"
   ]
  },
  {
   "cell_type": "code",
   "execution_count": 24,
   "id": "a6395907-e61d-4e16-a5f2-a66375d9cea6",
   "metadata": {},
   "outputs": [],
   "source": [
    "wCam, hCam = 640, 480"
   ]
  },
  {
   "cell_type": "code",
   "execution_count": 7,
   "id": "a4c1ae8c-c849-4a67-af51-c068a445368e",
   "metadata": {},
   "outputs": [],
   "source": [
    "cap = cv2.VideoCapture(0)\n",
    "cap.set(3, wCam)\n",
    "cap.set(4, hCam)\n",
    "pTime = 0"
   ]
  },
  {
   "cell_type": "code",
   "execution_count": 21,
   "id": "517e916e-e092-4a09-b095-27314a4c848c",
   "metadata": {},
   "outputs": [],
   "source": [
    "detector = htm.handDetector()\n"
   ]
  },
  {
   "cell_type": "code",
   "execution_count": null,
   "id": "8fef1409-e536-434f-920a-e5a41959af24",
   "metadata": {},
   "outputs": [],
   "source": []
  }
 ],
 "metadata": {
  "kernelspec": {
   "display_name": "Python 3 (ipykernel)",
   "language": "python",
   "name": "python3"
  },
  "language_info": {
   "codemirror_mode": {
    "name": "ipython",
    "version": 3
   },
   "file_extension": ".py",
   "mimetype": "text/x-python",
   "name": "python",
   "nbconvert_exporter": "python",
   "pygments_lexer": "ipython3",
   "version": "3.11.5"
  }
 },
 "nbformat": 4,
 "nbformat_minor": 5
}
